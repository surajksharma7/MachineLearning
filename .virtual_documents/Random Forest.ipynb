import numpy as np
import pandas as pd


df = pd.read_csv("temps.csv")
df.head()


df.shape


pd.get_dummies(df)


import pandas as pd
from sklearn.model_selection import train_test_split
from sklearn.ensemble import RandomForestRegressor
from sklearn.metrics import mean_squared_error



# Load the dataset
data = pd.read_csv('temps.csv')

# Check for missing values
print(data.isnull().sum())

# Drop or fill missing values
data.dropna(inplace=True)  # or data.fillna(method='ffill', inplace=True)

# Convert categorical variables to numerical (if needed)
data['week'] = data['week'].astype('category').cat.codes  # Example for week



data['week']


hye=f


# Load the dataset
data = pd.read_csv('your_data.csv')

# Check for missing values
print(data.isnull().sum())

# Drop or fill missing values
data.dropna(inplace=True)  # or data.fillna(method='ffill', inplace=True)

# Convert categorical variables to numerical (if needed)
data['week'] = data['week'].astype('category').cat.codes  # Example for week




